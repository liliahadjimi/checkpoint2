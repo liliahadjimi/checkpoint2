{
 "cells": [
  {
   "cell_type": "code",
   "execution_count": 2,
   "id": "c67a4529",
   "metadata": {},
   "outputs": [
    {
     "name": "stdout",
     "output_type": "stream",
     "text": [
      "saisisez le mot de passelil\n",
      "saisisez le mot de passelili\n",
      "saisisez le mot de passelilia\n"
     ]
    }
   ],
   "source": [
    "a=\"lilia\"\n",
    "b=input (\"saisisez le mot de passe\")\n",
    "while a!=b:\n",
    "   b= input (\"saisisez le mot de passe\")\n",
    "print(\"welcome\")"
   ]
  },
  {
   "cell_type": "code",
   "execution_count": 3,
   "id": "23f08a7f",
   "metadata": {},
   "outputs": [
    {
     "name": "stdout",
     "output_type": "stream",
     "text": [
      "entrez votre nomlilia\n",
      "entrez votre prenomhadjimi\n",
      "hadjimi lilia\n"
     ]
    }
   ],
   "source": [
    "nom=input(\"entrez votre nom\")\n",
    "prenom=input(\"entrez votre prenom\")\n",
    "print(prenom+\" \"+nom)"
   ]
  },
  {
   "cell_type": "code",
   "execution_count": 4,
   "id": "f46ea905",
   "metadata": {},
   "outputs": [
    {
     "name": "stdout",
     "output_type": "stream",
     "text": [
      "entrez un numero7\n",
      "7+77+777\n",
      "861\n"
     ]
    }
   ],
   "source": [
    "numero=str (input (\"entrez un numero\"))\n",
    "numero1=numero+numero\n",
    "numero2=numero1+numero\n",
    "somme=int(numero)+int(numero1)+int(numero2)\n",
    "print (numero+ \"+\" +numero1+ \"+\" +numero2)\n",
    "print(somme)\n",
    "\n"
   ]
  },
  {
   "cell_type": "code",
   "execution_count": 7,
   "id": "d1f5ea8f",
   "metadata": {},
   "outputs": [
    {
     "name": "stdout",
     "output_type": "stream",
     "text": [
      "saisisez un numéro6\n",
      "le numero est pair\n"
     ]
    }
   ],
   "source": [
    "#qst3\n",
    "num=int(input(\"saisisez un numéro\"))\n",
    "if num%2==0:\n",
    "    print(\"le numero est pair\")\n",
    "else :\n",
    "    print(\"le numero est impair \")"
   ]
  },
  {
   "cell_type": "code",
   "execution_count": 12,
   "id": "9a639e1b",
   "metadata": {},
   "outputs": [
    {
     "name": "stdout",
     "output_type": "stream",
     "text": [
      "2002/2009/2016/2023/2037/2044/2051/2058/2072/2079/2086/2093/2107/2114/2121/2128/2142/2149/2156/2163/2177/2184/2191/2198/2212/2219/2226/2233/2247/2254/2261/2268/2282/2289/2296/2303/2317/2324/2331/2338/2352/2359/2366/2373/2387/2394/2401/2408/2422/2429/2436/2443/2457/2464/2471/2478/2492/2499/2506/2513/2527/2534/2541/2548/2562/2569/2576/2583/2597/2604/2611/2618/2632/2639/2646/2653/2667/2674/2681/2688/2702/2709/2716/2723/2737/2744/2751/2758/2772/2779/2786/2793/2807/2814/2821/2828/2842/2849/2856/2863/2877/2884/2891/2898/2912/2919/2926/2933/2947/2954/2961/2968/2982/2989/2996/3003/3017/3024/3031/3038/3052/3059/3066/3073/3087/3094/3101/3108/3122/3129/3136/3143/3157/3164/3171/3178/3192/3199/"
     ]
    }
   ],
   "source": [
    "#qst4\n",
    "for i in range (2000, 3200):\n",
    "    if (i % 7==0 and i % 5!=0):\n",
    "        print (i,end =\"/\")"
   ]
  },
  {
   "cell_type": "code",
   "execution_count": 21,
   "id": "3d482160",
   "metadata": {},
   "outputs": [
    {
     "name": "stdout",
     "output_type": "stream",
     "text": [
      "donner un numero4\n",
      "24\n"
     ]
    }
   ],
   "source": [
    "#qst5\n",
    "nume=int(input (\"donner un numero\"))\n",
    "i=1\n",
    "nu=1\n",
    "while i<=nume:\n",
    "    nu=nu*i\n",
    "    i=i+1\n",
    "print(nu)"
   ]
  },
  {
   "cell_type": "code",
   "execution_count": 24,
   "id": "9d5bf4ad",
   "metadata": {},
   "outputs": [
    {
     "name": "stdout",
     "output_type": "stream",
     "text": [
      "donner la chaine youness\n",
      " yues\n"
     ]
    }
   ],
   "source": [
    "#qst6\n",
    "chaine=str(input(\"donner la chaine \"))\n",
    "i=0\n",
    "chaine2=\"\"\n",
    "for i in range(0,len(chaine),1):\n",
    "    if i % 2==0:\n",
    "        chaine2=chaine2+chaine[i]\n",
    "print(chaine2)\n",
    "        \n"
   ]
  },
  {
   "cell_type": "code",
   "execution_count": 26,
   "id": "694b9240",
   "metadata": {},
   "outputs": [
    {
     "name": "stdout",
     "output_type": "stream",
     "text": [
      "donner un prix1000\n",
      "500.0\n"
     ]
    }
   ],
   "source": [
    "#qst7\n",
    "prix=int(input(\"donner un prix\"))\n",
    "if prix>=500:\n",
    "    prix/=2\n",
    "elif prix>=200 and prix<500:\n",
    "    prix= prix-(prix * 0.3)\n",
    "else:\n",
    "    prix= prix- (prix * 0.1)\n",
    "print(prix)\n",
    "        \n",
    "     "
   ]
  },
  {
   "cell_type": "code",
   "execution_count": null,
   "id": "39143710",
   "metadata": {},
   "outputs": [],
   "source": []
  }
 ],
 "metadata": {
  "kernelspec": {
   "display_name": "Python 3 (ipykernel)",
   "language": "python",
   "name": "python3"
  },
  "language_info": {
   "codemirror_mode": {
    "name": "ipython",
    "version": 3
   },
   "file_extension": ".py",
   "mimetype": "text/x-python",
   "name": "python",
   "nbconvert_exporter": "python",
   "pygments_lexer": "ipython3",
   "version": "3.9.12"
  }
 },
 "nbformat": 4,
 "nbformat_minor": 5
}
